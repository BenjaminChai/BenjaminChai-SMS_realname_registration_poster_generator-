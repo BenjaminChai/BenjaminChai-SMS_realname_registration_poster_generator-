{
 "cells": [
  {
   "source": [
    "訊實聯制Poster生成器\n",
    "## 工具說明\n",
    "- 配合政府推動簡訊版實名制，提供活潑A4版型的快速生成。\n",
    "## 功能說明\n",
    "- 只需鍵入申請到的實聯制場所代碼，將以下notebook執行完成，即可得到套版後的頁面，可再轉為pdf或直接列印。\n",
    "- 可編輯簡訊內容加入場所/商家的問候，增進互動。請留意需符合實名制簡訊的相關規範，內容可參考[1922 簡訊實聯制 & 使用 QA](https://g0v.hackmd.io/@AHOpE3rrRl6RlTfUWovziw/HkmyoS-Fu#%E5%AF%A6%E4%BD%9C%E4%BE%8B)。\n",
    "- 版面可愛吸睛，讓顧客防疫期間也有好心情。\n",
    "## 素材來源\n",
    "- 感謝AnonYmouS5626提供[素材來源](https://www.plurk.com/p/odcph2)"
   ],
   "cell_type": "markdown",
   "metadata": {}
  },
  {
   "cell_type": "code",
   "execution_count": null,
   "metadata": {
    "ExecuteTime": {
     "end_time": "2021-05-15T04:45:54.667605Z",
     "start_time": "2021-05-15T04:45:54.664105Z"
    }
   },
   "outputs": [],
   "source": [
    "import pandas as pd\n",
    "import os\n",
    "import time\n",
    "import re\n",
    "import flask\n",
    "\n",
    "import jinja2\n",
    "import qrcode"
   ]
  },
  {
   "source": [
    "## 參數設定\n",
    "- **必須設定** - 設定由簡訊實名制網頁所申請到的場所代碼於*location_code*變數\n",
    "- **選擇設定** - 可修改*message*變數，自訂簡訊後的訊息(如場所名稱、招呼語等)\n",
    "- 執行後檢查場所代碼格式及簡訊字數\n",
    "> - 場所代碼應為15碼以上數字\n",
    "> - 簡訊字數超過65字會有提示(簡訊限制70字以內，但建議預留空間，可作為同行人數備註使用)"
   ],
   "cell_type": "markdown",
   "metadata": {}
  },
  {
   "cell_type": "code",
   "execution_count": null,
   "metadata": {},
   "outputs": [],
   "source": [
    "# 請於 location code her 處填入申請好的場所代碼(兩邊的\"\"請保留)\n",
    "location_code = \"location code here\"\n",
    "\n",
    "\n",
    "message = \"本簡訊是簡訊實聯制度發送，限防疫目的使用。\"\n",
    "SMS_text = f\"場所代碼:{location_code} {message}\"\n",
    "\n",
    "print(f'簡訊內容為：  {SMS_text}')\n",
    "\n",
    "if re.sub('\\d', '', location_code) or len(location_code)<15:\n",
    "    print('場所代碼不符合規範，應為15碼以上純數字')\n",
    "\n",
    "if len(SMS_text) > 65:\n",
    "    print(f'簡訊字數為{len(SMS_text)}字，超過70字訊息會被截斷，請減少字數')"
   ]
  },
  {
   "cell_type": "markdown",
   "metadata": {},
   "source": [
    "## 轉換QR Code"
   ]
  },
  {
   "cell_type": "code",
   "execution_count": null,
   "metadata": {},
   "outputs": [],
   "source": [
    "img = qrcode.make('smsto:1922:' + SMS_text, box_size=15, border=3)\n",
    "\n",
    "try:\n",
    "    os.mkdir('qrcode')\n",
    "except FileExistsError:\n",
    "    pass\n",
    "\n",
    "qr_path = os.path.join('qrcode', '實聯制表單QRcode.jpg')\n",
    "img.save(qr_path)\n",
    "\n",
    "print(f'QR Code已轉換完成')"
   ]
  },
  {
   "source": [
    "## 轉換html"
   ],
   "cell_type": "markdown",
   "metadata": {}
  },
  {
   "cell_type": "code",
   "execution_count": null,
   "metadata": {},
   "outputs": [],
   "source": [
    "env = jinja2.Environment(loader=jinja2.FileSystemLoader('template'))\n",
    "template = env.get_template('SMS_RealNameRegistration.html')\n",
    "\n",
    "template_vars = {\n",
    "    \"location_code\":location_code, \n",
    "    \"qr_path\":qr_path, \n",
    "    \"SMS_text\":SMS_text\n",
    "                }\n",
    "\n",
    "html_output = template.render(template_vars)\n",
    "\n",
    "\n",
    "filename = '簡訊版實聯制poster.html'\n",
    "with open(filename, 'w', encoding='utf-8') as output:\n",
    "    output.write(html_output)\n",
    "\n",
    "    print(f'已產出html檔案：{filename}')"
   ]
  },
  {
   "source": [
    "html已轉換完成，執行下方cell即可於瀏覽器開啟，之後可自行轉存pdf或直接列印。"
   ],
   "cell_type": "markdown",
   "metadata": {}
  },
  {
   "cell_type": "code",
   "execution_count": null,
   "metadata": {},
   "outputs": [],
   "source": [
    "!簡訊版實聯制poster.html"
   ]
  },
  {
   "cell_type": "code",
   "execution_count": null,
   "metadata": {},
   "outputs": [],
   "source": []
  }
 ],
 "metadata": {
  "kernelspec": {
   "name": "python385jvsc74a57bd05007d2d7ec45e92a8885f593c997463244d1af93d249d03a97994a065605776d",
   "display_name": "Python 3.8.5 64-bit ('playground': conda)"
  },
  "language_info": {
   "codemirror_mode": {
    "name": "ipython",
    "version": 3
   },
   "file_extension": ".py",
   "mimetype": "text/x-python",
   "name": "python",
   "nbconvert_exporter": "python",
   "pygments_lexer": "ipython3",
   "version": "3.8.5"
  },
  "toc": {
   "base_numbering": 1,
   "nav_menu": {},
   "number_sections": false,
   "sideBar": true,
   "skip_h1_title": false,
   "title_cell": "Table of Contents",
   "title_sidebar": "Contents",
   "toc_cell": false,
   "toc_position": {},
   "toc_section_display": true,
   "toc_window_display": false
  },
  "varInspector": {
   "cols": {
    "lenName": 16,
    "lenType": 16,
    "lenVar": 40
   },
   "kernels_config": {
    "python": {
     "delete_cmd_postfix": "",
     "delete_cmd_prefix": "del ",
     "library": "var_list.py",
     "varRefreshCmd": "print(var_dic_list())"
    },
    "r": {
     "delete_cmd_postfix": ") ",
     "delete_cmd_prefix": "rm(",
     "library": "var_list.r",
     "varRefreshCmd": "cat(var_dic_list()) "
    }
   },
   "types_to_exclude": [
    "module",
    "function",
    "builtin_function_or_method",
    "instance",
    "_Feature"
   ],
   "window_display": false
  }
 },
 "nbformat": 4,
 "nbformat_minor": 5
}